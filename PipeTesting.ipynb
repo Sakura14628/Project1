{
 "cells": [
  {
   "cell_type": "code",
   "execution_count": null,
   "id": "42c5ccde-bede-4464-abab-fece82c433a4",
   "metadata": {},
   "outputs": [],
   "source": [
    "import cv2\n",
    "import numpy as np\n",
    "\n",
    "import mediapipe as mp\n",
    "\n",
    "BaseOptions = mp.tasks.BaseOptions\n",
    "FaceDetector = mp.tasks.vision.FaceDetector\n",
    "FaceDetectorOptions = mp.tasks.vision.FaceDetectorOptions\n",
    "VisionRunningMode = mp.tasks.vision.RunningMode\n",
    "\n",
    "options = FaceDetectorOptions(\n",
    "    base_options=BaseOptions(model_asset_path='model/blaze_face_short_range.tflite'),\n",
    "    running_mode=VisionRunningMode.IMAGE)\n",
    "\n",
    "with FaceDetector.create_from_options(options) as detector:\n",
    "    cap = cv2.VideoCapture(0)\n",
    "    while True:\n",
    "        ret, frame = cap.read()             # 讀取影片的每一幀\n",
    "        w = frame.shape[1]\n",
    "        h = frame.shape[0]\n",
    "        mp_image = mp.Image(image_format=mp.ImageFormat.SRGB, data=frame)\n",
    "        detection_result = detector.detect(mp_image)\n",
    "        for detection in detection_result.detections:\n",
    "            bbox = detection.bounding_box\n",
    "            lx = bbox.origin_x\n",
    "            ly = bbox.origin_y\n",
    "            width = bbox.width\n",
    "            height = bbox.height\n",
    "            cv2.rectangle(frame,(lx,ly),(lx+width,ly+height),(0,0,255),5)\n",
    "            for keyPoint in detection.keypoints:\n",
    "                print(keyPoint, w, h)\n",
    "                cx = int(keyPoint.x*w)\n",
    "                cy = int(keyPoint.y*h)\n",
    "                print(cx, cy)\n",
    "                cv2.circle(frame,(cx,cy),10,(0,0,255),-1) \n",
    "            print(bbox)\n",
    "        if not ret:\n",
    "            print(\"Cannot receive frame\")   # 如果讀取錯誤，印出訊息\n",
    "            break\n",
    "        cv2.imshow('oxxostudio', frame)     # 如果讀取成功，顯示該幀的畫面\n",
    "        if cv2.waitKey(10) == ord('q'):      # 每一毫秒更新一次，直到按下 q 結束\n",
    "            break\n",
    "    cap.release()                           # 所有作業都完成後，釋放資源\n",
    "    cv2.destroyAllWindows()                 # 結束所有視窗"
   ]
  },
  {
   "cell_type": "code",
   "execution_count": null,
   "id": "fb45227c-07fc-4654-bb33-61c98f17dc02",
   "metadata": {},
   "outputs": [],
   "source": []
  }
 ],
 "metadata": {
  "kernelspec": {
   "display_name": "Python 3 (ipykernel)",
   "language": "python",
   "name": "python3"
  },
  "language_info": {
   "codemirror_mode": {
    "name": "ipython",
    "version": 3
   },
   "file_extension": ".py",
   "mimetype": "text/x-python",
   "name": "python",
   "nbconvert_exporter": "python",
   "pygments_lexer": "ipython3",
   "version": "3.12.4"
  }
 },
 "nbformat": 4,
 "nbformat_minor": 5
}
