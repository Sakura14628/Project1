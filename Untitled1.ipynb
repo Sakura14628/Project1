{
 "cells": [
  {
   "cell_type": "code",
   "execution_count": 1,
   "id": "d5ab4715-cb5e-49f1-9a5b-3ef69716c8ce",
   "metadata": {},
   "outputs": [
    {
     "name": "stdout",
     "output_type": "stream",
     "text": [
      "Requirement already satisfied: opencv-python in c:\\users\\suf57\\anaconda3\\lib\\site-packages (4.10.0.84)\n",
      "Requirement already satisfied: numpy>=1.21.2 in c:\\users\\suf57\\anaconda3\\lib\\site-packages (from opencv-python) (1.26.4)\n"
     ]
    }
   ],
   "source": [
    "!pip install opencv-python"
   ]
  },
  {
   "cell_type": "code",
   "execution_count": 3,
   "id": "5f526514-dd08-409c-9fa7-10ff4fa9808a",
   "metadata": {},
   "outputs": [
    {
     "name": "stdout",
     "output_type": "stream",
     "text": [
      "Requirement already satisfied: opencv_contrib_python in c:\\users\\suf57\\anaconda3\\lib\\site-packages (4.10.0.84)\n",
      "Requirement already satisfied: numpy>=1.21.2 in c:\\users\\suf57\\anaconda3\\lib\\site-packages (from opencv_contrib_python) (1.26.4)\n"
     ]
    }
   ],
   "source": [
    "!pip install opencv_contrib_python\n"
   ]
  },
  {
   "cell_type": "code",
   "execution_count": null,
   "id": "da300af3-128e-4e49-baf0-5aed14510a76",
   "metadata": {},
   "outputs": [],
   "source": [
    "import cv2\n",
    "img = cv2.imread('Gura.jpg')\n",
    "cv2.imshow('Picture',img)\n",
    "cv2.waitKey(0)"
   ]
  },
  {
   "cell_type": "code",
   "execution_count": null,
   "id": "8ddd988b-6f86-4cba-9387-dd15381a69ea",
   "metadata": {},
   "outputs": [],
   "source": []
  }
 ],
 "metadata": {
  "kernelspec": {
   "display_name": "Python 3 (ipykernel)",
   "language": "python",
   "name": "python3"
  },
  "language_info": {
   "codemirror_mode": {
    "name": "ipython",
    "version": 3
   },
   "file_extension": ".py",
   "mimetype": "text/x-python",
   "name": "python",
   "nbconvert_exporter": "python",
   "pygments_lexer": "ipython3",
   "version": "3.12.4"
  }
 },
 "nbformat": 4,
 "nbformat_minor": 5
}
